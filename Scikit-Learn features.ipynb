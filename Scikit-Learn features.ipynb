{
 "cells": [
  {
   "cell_type": "code",
   "execution_count": 68,
   "metadata": {
    "ExecuteTime": {
     "end_time": "2020-10-19T00:21:43.917935Z",
     "start_time": "2020-10-19T00:21:43.693738Z"
    }
   },
   "outputs": [],
   "source": [
    "from sklearn.datasets import fetch_california_housing\n",
    "\n",
    "data=fetch_california_housing(as_frame=True)\n",
    "\n",
    "df = data['frame']"
   ]
  },
  {
   "cell_type": "code",
   "execution_count": 69,
   "metadata": {
    "ExecuteTime": {
     "end_time": "2020-10-19T00:21:43.958986Z",
     "start_time": "2020-10-19T00:21:43.930432Z"
    }
   },
   "outputs": [],
   "source": [
    "from sklearn.model_selection import train_test_split\n",
    "\n",
    "df_train, df_test = train_test_split(df, test_size=0.3, random_state=42)\n"
   ]
  },
  {
   "cell_type": "code",
   "execution_count": 146,
   "metadata": {
    "ExecuteTime": {
     "end_time": "2020-10-19T00:45:17.396453Z",
     "start_time": "2020-10-19T00:45:17.288604Z"
    }
   },
   "outputs": [],
   "source": [
    "from pandas_profiling import ProfileReport\n",
    "profile = ProfileReport(df_train, title='Boston Housing', explorative=True)\n"
   ]
  },
  {
   "cell_type": "code",
   "execution_count": 147,
   "metadata": {
    "ExecuteTime": {
     "end_time": "2020-10-19T00:46:01.130152Z",
     "start_time": "2020-10-19T00:45:17.848615Z"
    }
   },
   "outputs": [
    {
     "data": {
      "application/vnd.jupyter.widget-view+json": {
       "model_id": "c6db33c1fefc4ce4b19eccfd0b2c55ca",
       "version_major": 2,
       "version_minor": 0
      },
      "text/plain": [
       "HBox(children=(FloatProgress(value=0.0, description='Summarize dataset', max=24.0, style=ProgressStyle(descrip…"
      ]
     },
     "metadata": {},
     "output_type": "display_data"
    },
    {
     "name": "stdout",
     "output_type": "stream",
     "text": [
      "\n"
     ]
    },
    {
     "data": {
      "application/vnd.jupyter.widget-view+json": {
       "model_id": "321debf5789947c3b647f93524cb4a68",
       "version_major": 2,
       "version_minor": 0
      },
      "text/plain": [
       "HBox(children=(FloatProgress(value=0.0, description='Generate report structure', max=1.0, style=ProgressStyle(…"
      ]
     },
     "metadata": {},
     "output_type": "display_data"
    },
    {
     "name": "stdout",
     "output_type": "stream",
     "text": [
      "\n"
     ]
    },
    {
     "data": {
      "application/vnd.jupyter.widget-view+json": {
       "model_id": "",
       "version_major": 2,
       "version_minor": 0
      },
      "text/plain": [
       "HBox(children=(FloatProgress(value=0.0, description='Render widgets', max=1.0, style=ProgressStyle(description…"
      ]
     },
     "metadata": {},
     "output_type": "display_data"
    },
    {
     "data": {
      "application/vnd.jupyter.widget-view+json": {
       "model_id": "c76d5a0a9f7349f2b193a9054e4620a1",
       "version_major": 2,
       "version_minor": 0
      },
      "text/plain": [
       "VBox(children=(Tab(children=(Tab(children=(GridBox(children=(VBox(children=(GridspecLayout(children=(HTML(valu…"
      ]
     },
     "metadata": {},
     "output_type": "display_data"
    }
   ],
   "source": [
    "profile.to_widgets()"
   ]
  },
  {
   "cell_type": "code",
   "execution_count": 72,
   "metadata": {
    "ExecuteTime": {
     "end_time": "2020-10-19T00:22:29.306577Z",
     "start_time": "2020-10-19T00:22:29.218444Z"
    }
   },
   "outputs": [
    {
     "data": {
      "text/html": [
       "<div>\n",
       "<style scoped>\n",
       "    .dataframe tbody tr th:only-of-type {\n",
       "        vertical-align: middle;\n",
       "    }\n",
       "\n",
       "    .dataframe tbody tr th {\n",
       "        vertical-align: top;\n",
       "    }\n",
       "\n",
       "    .dataframe thead th {\n",
       "        text-align: right;\n",
       "    }\n",
       "</style>\n",
       "<table border=\"1\" class=\"dataframe\">\n",
       "  <thead>\n",
       "    <tr style=\"text-align: right;\">\n",
       "      <th></th>\n",
       "      <th>MedInc</th>\n",
       "      <th>HouseAge</th>\n",
       "      <th>AveRooms</th>\n",
       "      <th>AveBedrms</th>\n",
       "      <th>Population</th>\n",
       "      <th>AveOccup</th>\n",
       "      <th>Latitude</th>\n",
       "      <th>Longitude</th>\n",
       "      <th>MedHouseVal</th>\n",
       "    </tr>\n",
       "  </thead>\n",
       "  <tbody>\n",
       "    <tr>\n",
       "      <th>count</th>\n",
       "      <td>14448.000000</td>\n",
       "      <td>14448.000000</td>\n",
       "      <td>14448.000000</td>\n",
       "      <td>14448.000000</td>\n",
       "      <td>14448.000000</td>\n",
       "      <td>14448.000000</td>\n",
       "      <td>14448.000000</td>\n",
       "      <td>14448.000000</td>\n",
       "      <td>14448.000000</td>\n",
       "    </tr>\n",
       "    <tr>\n",
       "      <th>mean</th>\n",
       "      <td>3.876892</td>\n",
       "      <td>28.575374</td>\n",
       "      <td>5.438125</td>\n",
       "      <td>1.098033</td>\n",
       "      <td>1427.927326</td>\n",
       "      <td>3.119236</td>\n",
       "      <td>35.650669</td>\n",
       "      <td>-119.584102</td>\n",
       "      <td>2.069240</td>\n",
       "    </tr>\n",
       "    <tr>\n",
       "      <th>std</th>\n",
       "      <td>1.904908</td>\n",
       "      <td>12.613634</td>\n",
       "      <td>2.453569</td>\n",
       "      <td>0.447498</td>\n",
       "      <td>1140.225190</td>\n",
       "      <td>12.373636</td>\n",
       "      <td>2.135742</td>\n",
       "      <td>2.002930</td>\n",
       "      <td>1.157492</td>\n",
       "    </tr>\n",
       "    <tr>\n",
       "      <th>min</th>\n",
       "      <td>0.499900</td>\n",
       "      <td>1.000000</td>\n",
       "      <td>0.888889</td>\n",
       "      <td>0.333333</td>\n",
       "      <td>3.000000</td>\n",
       "      <td>0.692308</td>\n",
       "      <td>32.550000</td>\n",
       "      <td>-124.350000</td>\n",
       "      <td>0.149990</td>\n",
       "    </tr>\n",
       "    <tr>\n",
       "      <th>25%</th>\n",
       "      <td>2.567225</td>\n",
       "      <td>18.000000</td>\n",
       "      <td>4.448928</td>\n",
       "      <td>1.006783</td>\n",
       "      <td>791.000000</td>\n",
       "      <td>2.430380</td>\n",
       "      <td>33.940000</td>\n",
       "      <td>-121.800000</td>\n",
       "      <td>1.193000</td>\n",
       "    </tr>\n",
       "    <tr>\n",
       "      <th>50%</th>\n",
       "      <td>3.539100</td>\n",
       "      <td>29.000000</td>\n",
       "      <td>5.232422</td>\n",
       "      <td>1.049492</td>\n",
       "      <td>1168.000000</td>\n",
       "      <td>2.817147</td>\n",
       "      <td>34.270000</td>\n",
       "      <td>-118.510000</td>\n",
       "      <td>1.793000</td>\n",
       "    </tr>\n",
       "    <tr>\n",
       "      <th>75%</th>\n",
       "      <td>4.758075</td>\n",
       "      <td>37.000000</td>\n",
       "      <td>6.060692</td>\n",
       "      <td>1.100328</td>\n",
       "      <td>1727.000000</td>\n",
       "      <td>3.279135</td>\n",
       "      <td>37.720000</td>\n",
       "      <td>-118.010000</td>\n",
       "      <td>2.646000</td>\n",
       "    </tr>\n",
       "    <tr>\n",
       "      <th>max</th>\n",
       "      <td>15.000100</td>\n",
       "      <td>52.000000</td>\n",
       "      <td>141.909091</td>\n",
       "      <td>25.636364</td>\n",
       "      <td>35682.000000</td>\n",
       "      <td>1243.333333</td>\n",
       "      <td>41.950000</td>\n",
       "      <td>-114.310000</td>\n",
       "      <td>5.000010</td>\n",
       "    </tr>\n",
       "  </tbody>\n",
       "</table>\n",
       "</div>"
      ],
      "text/plain": [
       "             MedInc      HouseAge      AveRooms     AveBedrms    Population  \\\n",
       "count  14448.000000  14448.000000  14448.000000  14448.000000  14448.000000   \n",
       "mean       3.876892     28.575374      5.438125      1.098033   1427.927326   \n",
       "std        1.904908     12.613634      2.453569      0.447498   1140.225190   \n",
       "min        0.499900      1.000000      0.888889      0.333333      3.000000   \n",
       "25%        2.567225     18.000000      4.448928      1.006783    791.000000   \n",
       "50%        3.539100     29.000000      5.232422      1.049492   1168.000000   \n",
       "75%        4.758075     37.000000      6.060692      1.100328   1727.000000   \n",
       "max       15.000100     52.000000    141.909091     25.636364  35682.000000   \n",
       "\n",
       "           AveOccup      Latitude     Longitude   MedHouseVal  \n",
       "count  14448.000000  14448.000000  14448.000000  14448.000000  \n",
       "mean       3.119236     35.650669   -119.584102      2.069240  \n",
       "std       12.373636      2.135742      2.002930      1.157492  \n",
       "min        0.692308     32.550000   -124.350000      0.149990  \n",
       "25%        2.430380     33.940000   -121.800000      1.193000  \n",
       "50%        2.817147     34.270000   -118.510000      1.793000  \n",
       "75%        3.279135     37.720000   -118.010000      2.646000  \n",
       "max     1243.333333     41.950000   -114.310000      5.000010  "
      ]
     },
     "execution_count": 72,
     "metadata": {},
     "output_type": "execute_result"
    }
   ],
   "source": [
    "df_train.describe(include='all')"
   ]
  },
  {
   "cell_type": "code",
   "execution_count": 286,
   "metadata": {
    "ExecuteTime": {
     "end_time": "2020-10-19T01:21:09.376345Z",
     "start_time": "2020-10-19T01:21:08.816130Z"
    }
   },
   "outputs": [
    {
     "data": {
      "text/plain": [
       "<matplotlib.axes._subplots.AxesSubplot at 0x7fd0d103b970>"
      ]
     },
     "execution_count": 286,
     "metadata": {},
     "output_type": "execute_result"
    },
    {
     "data": {
      "image/png": "[encoded data removed]",
      "text/plain": [
       "<Figure size 432x288 with 1 Axes>"
      ]
     },
     "metadata": {
      "needs_background": "light"
     },
     "output_type": "display_data"
    }
   ],
   "source": [
    "import seaborn as sns\n",
    "\n",
    "sns.scatterplot(data=df_train, x=\"Latitude\", y=\"Longitude\",hue='MedHouseVal', size='MedHouseVal')\n"
   ]
  },
  {
   "cell_type": "code",
   "execution_count": 267,
   "metadata": {
    "ExecuteTime": {
     "end_time": "2020-10-19T01:16:16.451890Z",
     "start_time": "2020-10-19T01:16:16.448817Z"
    }
   },
   "outputs": [],
   "source": [
    "from sklearn.tree import DecisionTreeRegressor\n",
    "dt = DecisionTreeRegressor(random_state=42)"
   ]
  },
  {
   "cell_type": "code",
   "execution_count": 268,
   "metadata": {
    "ExecuteTime": {
     "end_time": "2020-10-19T01:16:16.717814Z",
     "start_time": "2020-10-19T01:16:16.712190Z"
    }
   },
   "outputs": [],
   "source": [
    "def get_xy(df):\n",
    "    return df.drop(['MedHouseVal'], 1), df['MedHouseVal']\n",
    "\n",
    "X_train, y_train = get_xy(df_train)\n",
    "X_test, y_test = get_xy(df_test\n",
    "                       )"
   ]
  },
  {
   "cell_type": "code",
   "execution_count": 269,
   "metadata": {
    "ExecuteTime": {
     "end_time": "2020-10-19T01:16:17.064423Z",
     "start_time": "2020-10-19T01:16:16.896467Z"
    }
   },
   "outputs": [
    {
     "data": {
      "text/plain": [
       "DecisionTreeRegressor(random_state=42)"
      ]
     },
     "execution_count": 269,
     "metadata": {},
     "output_type": "execute_result"
    }
   ],
   "source": [
    "dt.fit(X_train, y_train)"
   ]
  },
  {
   "cell_type": "code",
   "execution_count": 270,
   "metadata": {
    "ExecuteTime": {
     "end_time": "2020-10-19T01:16:17.075892Z",
     "start_time": "2020-10-19T01:16:17.066602Z"
    }
   },
   "outputs": [
    {
     "data": {
      "text/plain": [
       "0.5243902731727552"
      ]
     },
     "execution_count": 270,
     "metadata": {},
     "output_type": "execute_result"
    }
   ],
   "source": [
    "from sklearn.metrics import mean_squared_error\n",
    "y_pred = dt.predict(X_test)\n",
    "\n",
    "\n",
    "mean_squared_error(y_test, y_pred)"
   ]
  },
  {
   "cell_type": "code",
   "execution_count": 271,
   "metadata": {
    "ExecuteTime": {
     "end_time": "2020-10-19T01:16:17.398143Z",
     "start_time": "2020-10-19T01:16:17.225869Z"
    }
   },
   "outputs": [
    {
     "data": {
      "text/plain": [
       "0.5243902731727552"
      ]
     },
     "execution_count": 271,
     "metadata": {},
     "output_type": "execute_result"
    }
   ],
   "source": [
    "from sklearn.pipeline import Pipeline\n",
    "\n",
    "pipe = Pipeline([('clf', dt)])\n",
    "\n",
    "pipe.fit(X_train, y_train)\n",
    "\n",
    "y_pred = pipe.predict(X_test)\n",
    "mean_squared_error(y_test, y_pred)"
   ]
  },
  {
   "cell_type": "code",
   "execution_count": 272,
   "metadata": {
    "ExecuteTime": {
     "end_time": "2020-10-19T01:16:17.402818Z",
     "start_time": "2020-10-19T01:16:17.400235Z"
    }
   },
   "outputs": [],
   "source": [
    "from sklearn.preprocessing import StandardScaler"
   ]
  },
  {
   "cell_type": "code",
   "execution_count": 273,
   "metadata": {
    "ExecuteTime": {
     "end_time": "2020-10-19T01:16:17.700841Z",
     "start_time": "2020-10-19T01:16:17.540616Z"
    }
   },
   "outputs": [
    {
     "data": {
      "text/plain": [
       "0.5231860400719638"
      ]
     },
     "execution_count": 273,
     "metadata": {},
     "output_type": "execute_result"
    }
   ],
   "source": [
    "pipe_with_preprocess = Pipeline([('scaler', StandardScaler()), ('clf', dt)])\n",
    "pipe_with_preprocess.fit(X_train, y_train)\n",
    "\n",
    "y_pred = pipe_with_preprocess.predict(X_test)\n",
    "mean_squared_error(y_test, y_pred)"
   ]
  },
  {
   "cell_type": "code",
   "execution_count": 274,
   "metadata": {
    "ExecuteTime": {
     "end_time": "2020-10-19T01:16:17.710319Z",
     "start_time": "2020-10-19T01:16:17.703820Z"
    }
   },
   "outputs": [],
   "source": [
    "class ZScoreCAHousing:\n",
    "    \n",
    "    def __init__(self):\n",
    "        self.mean = 0\n",
    "        self.std = 0\n",
    "    \n",
    "    def fit(self, X, y=None):\n",
    "        self.mean = X.mean()\n",
    "        self.std = X.std()\n",
    "        return self\n",
    "    \n",
    "    def transform(self, X, y=None):\n",
    "        return (X - self.mean) / self.std\n",
    "        "
   ]
  },
  {
   "cell_type": "code",
   "execution_count": 275,
   "metadata": {
    "ExecuteTime": {
     "end_time": "2020-10-19T01:16:17.873680Z",
     "start_time": "2020-10-19T01:16:17.870682Z"
    }
   },
   "outputs": [],
   "source": [
    "p = ZScoreCAHousing()"
   ]
  },
  {
   "cell_type": "code",
   "execution_count": 276,
   "metadata": {
    "ExecuteTime": {
     "end_time": "2020-10-19T01:16:18.271843Z",
     "start_time": "2020-10-19T01:16:18.079388Z"
    }
   },
   "outputs": [
    {
     "data": {
      "text/plain": [
       "0.5235583038026002"
      ]
     },
     "execution_count": 276,
     "metadata": {},
     "output_type": "execute_result"
    }
   ],
   "source": [
    "pipe_with_custom_zscore_preprocess = Pipeline([('scaler', ZScoreCAHousing()), ('clf', dt)])\n",
    "pipe_with_custom_zscore_preprocess.fit(X_train, y_train)\n",
    "\n",
    "y_pred = pipe_with_custom_zscore_preprocess.predict(X_test)\n",
    "mean_squared_error(y_test, y_pred)"
   ]
  },
  {
   "cell_type": "code",
   "execution_count": 277,
   "metadata": {
    "ExecuteTime": {
     "end_time": "2020-10-19T01:16:18.426965Z",
     "start_time": "2020-10-19T01:16:18.283243Z"
    }
   },
   "outputs": [
    {
     "name": "stderr",
     "output_type": "stream",
     "text": [
      "/Users/lneves/anaconda3/lib/python3.8/site-packages/seaborn/_decorators.py:36: FutureWarning: Pass the following variable as a keyword arg: x. From version 0.12, the only valid positional argument will be `data`, and passing other arguments without an explicit keyword will result in an error or misinterpretation.\n",
      "  warnings.warn(\n"
     ]
    },
    {
     "data": {
      "text/plain": [
       "<matplotlib.axes._subplots.AxesSubplot at 0x7fd0cc244b50>"
      ]
     },
     "execution_count": 277,
     "metadata": {},
     "output_type": "execute_result"
    },
    {
     "data": {
      "image/png": "[encoded data removed]",
      "text/plain": [
       "<Figure size 432x288 with 1 Axes>"
      ]
     },
     "metadata": {
      "needs_background": "light"
     },
     "output_type": "display_data"
    }
   ],
   "source": [
    "import math\n",
    "import seaborn as sns\n",
    "\n",
    "bins = pd.cut(X_train['HouseAge'], bins=[0, 20, 30, 40, 100],\n",
    "                              labels=['<20', '20-30', '30-40', '40+'])\n",
    "\n",
    "sns.countplot(bins)"
   ]
  },
  {
   "cell_type": "code",
   "execution_count": 312,
   "metadata": {
    "ExecuteTime": {
     "end_time": "2020-10-19T01:45:12.127659Z",
     "start_time": "2020-10-19T01:45:12.047529Z"
    }
   },
   "outputs": [],
   "source": [
    "import math\n",
    "import numpy as np\n",
    "class PreprocessHousing:\n",
    "    \n",
    "    def __init__(self, feats_to_log=['MedInc', 'Population'], \n",
    "                                     feats_to_zscore=['MedInc', 'Population']):\n",
    "        self.mean = {}\n",
    "        self.std = {}\n",
    "        self.feats_to_log = feats_to_log\n",
    "        self.feats_to_zscore = feats_to_zscore\n",
    "    \n",
    "    def fit(self, X, y=None):\n",
    "        \"\"\"\n",
    "        Existing features\n",
    "        MedInc HouseAge AveRooms AveBedrms Population AveOccup Latitude Longitude\n",
    "        \"\"\"\n",
    "        X = X.copy()\n",
    "        for feat in self.feats_to_log: # apply log transform\n",
    "            X[feat] = X[feat].apply(math.log)\n",
    "        \n",
    "        \n",
    "        for feat in self.feats_to_zscore:\n",
    "            self.mean[feat] = X[feat].mean()\n",
    "            self.std[feat] = X[feat].std()\n",
    "        \n",
    "        \n",
    "        return self\n",
    "    \n",
    "    def transform(self, X, y=None):\n",
    "        X = X.copy()\n",
    "        X['HouseAge'] = pd.cut(X['HouseAge'], bins=[0, 20, 30, 40, 100],labels=list(range(4))) #['<20', '20-30', '30-40', '40+']\n",
    "        \n",
    "        \n",
    "        def haversine_distance(lat, long):\n",
    "\n",
    "            # based on from https://en.wikipedia.org/wiki/Haversine_formula\n",
    "            ocean_lat = 34\n",
    "            ocean_long = -122\n",
    "            radius = 6371 # km\n",
    "\n",
    "            rad_lat = np.radians(ocean_lat - lat)\n",
    "            rad_long = np.radians(ocean_long - long)\n",
    "            a = np.sin(rad_lat/2) * np.sin(rad_lat/2) + np.cos(np.radians(lat)) * np.cos(np.radians(ocean_lat)) * np.sin(rad_long/2) * np.sin(rad_long/2)\n",
    "            c = 2 * np.arctan2(np.sqrt(a), np.sqrt(1-a))\n",
    "            distance = radius * c\n",
    "\n",
    "            return distance\n",
    "        \n",
    "        X['distance_to_ocean'] = X.apply(lambda x: haversine_distance(x.Latitude, x.Longitude), axis=1)\n",
    "        \n",
    "        for feat in self.feats_to_log: # apply log transform\n",
    "            X[feat] = X[feat].apply(math.log)\n",
    "                               \n",
    "        for feat in self.feats_to_zscore:\n",
    "            X[feat] = (X[feat] - self.mean[feat]) / self.std[feat]\n",
    "            \n",
    "        return X"
   ]
  },
  {
   "cell_type": "code",
   "execution_count": 313,
   "metadata": {
    "ExecuteTime": {
     "end_time": "2020-10-19T01:45:15.545415Z",
     "start_time": "2020-10-19T01:45:12.609508Z"
    }
   },
   "outputs": [
    {
     "data": {
      "text/plain": [
       "0.4826583951654393"
      ]
     },
     "execution_count": 313,
     "metadata": {},
     "output_type": "execute_result"
    }
   ],
   "source": [
    "ph = PreprocessHousing()\n",
    "pipe_with_custom_preprocess = Pipeline([('preprocess', PreprocessHousing()), ('clf', dt)])\n",
    "pipe_with_custom_preprocess.fit(X_train, y_train)\n",
    "\n",
    "y_pred = pipe_with_custom_preprocess.predict(X_test)\n",
    "mean_squared_error(y_test, y_pred)"
   ]
  },
  {
   "cell_type": "code",
   "execution_count": 311,
   "metadata": {
    "ExecuteTime": {
     "end_time": "2020-10-19T01:31:31.335065Z",
     "start_time": "2020-10-19T01:31:19.236819Z"
    }
   },
   "outputs": [
    {
     "data": {
      "text/plain": [
       "0.24393230628796006"
      ]
     },
     "execution_count": 311,
     "metadata": {},
     "output_type": "execute_result"
    }
   ],
   "source": [
    "from sklearn.ensemble import RandomForestRegressor\n",
    "\n",
    "rf = RandomForestRegressor(random_state=42)\n",
    "pipe_with_custom_preprocess_rf = Pipeline([('preprocess', PreprocessHousing()), ('clf', rf)])\n",
    "pipe_with_custom_preprocess_rf.fit(X_train, y_train)\n",
    "\n",
    "y_pred = pipe_with_custom_preprocess_rf.predict(X_test)\n",
    "mean_squared_error(y_test, y_pred)"
   ]
  },
  {
   "cell_type": "code",
   "execution_count": null,
   "metadata": {},
   "outputs": [],
   "source": []
  }
 ],
 "metadata": {
  "kernelspec": {
   "display_name": "Python 3",
   "language": "python",
   "name": "python3"
  },
  "language_info": {
   "codemirror_mode": {
    "name": "ipython",
    "version": 3
   },
   "file_extension": ".py",
   "mimetype": "text/x-python",
   "name": "python",
   "nbconvert_exporter": "python",
   "pygments_lexer": "ipython3",
   "version": "3.7.9"
  }
 },
 "nbformat": 4,
 "nbformat_minor": 4
}
